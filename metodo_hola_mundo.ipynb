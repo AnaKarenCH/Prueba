{
  "nbformat": 4,
  "nbformat_minor": 0,
  "metadata": {
    "colab": {
      "name": "metodo hola mundo.ipynb",
      "provenance": [],
      "authorship_tag": "ABX9TyPG2KwTrCyYGBUCe+n5kYyT",
      "include_colab_link": true
    },
    "kernelspec": {
      "name": "python3",
      "display_name": "Python 3"
    },
    "language_info": {
      "name": "python"
    }
  },
  "cells": [
    {
      "cell_type": "markdown",
      "metadata": {
        "id": "view-in-github",
        "colab_type": "text"
      },
      "source": [
        "<a href=\"https://colab.research.google.com/github/AnaKarenCH/Prueba/blob/main/metodo_hola_mundo.ipynb\" target=\"_parent\"><img src=\"https://colab.research.google.com/assets/colab-badge.svg\" alt=\"Open In Colab\"/></a>"
      ]
    },
    {
      "cell_type": "code",
      "execution_count": 3,
      "metadata": {
        "colab": {
          "base_uri": "https://localhost:8080/"
        },
        "id": "hJtO9M8OP_tU",
        "outputId": "b28262a3-b2bc-4f28-ce32-95297821374c"
      },
      "outputs": [
        {
          "output_type": "stream",
          "name": "stdout",
          "text": [
            "Escribe tu nombreasd\n",
            "Hola  asd  Cómo estas?\n"
          ]
        }
      ],
      "source": [
        "def holaMundo():\n",
        "  nombre=input(\"Escribe tu nombre\")\n",
        "  print(\"Hola \",nombre, \" Cómo estas?\")\n",
        "\n",
        "holaMundo()"
      ]
    }
  ]
}