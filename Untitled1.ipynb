{
  "nbformat": 4,
  "nbformat_minor": 0,
  "metadata": {
    "colab": {
      "name": "Untitled1.ipynb",
      "provenance": [],
      "collapsed_sections": [],
      "authorship_tag": "ABX9TyOJZ6i11eL5VO2jGE68TKWJ",
      "include_colab_link": true
    },
    "kernelspec": {
      "name": "python3",
      "display_name": "Python 3"
    },
    "language_info": {
      "name": "python"
    }
  },
  "cells": [
    {
      "cell_type": "markdown",
      "metadata": {
        "id": "view-in-github",
        "colab_type": "text"
      },
      "source": [
        "<a href=\"https://colab.research.google.com/github/AnaKarenCH/Prueba/blob/main/Untitled1.ipynb\" target=\"_parent\"><img src=\"https://colab.research.google.com/assets/colab-badge.svg\" alt=\"Open In Colab\"/></a>"
      ]
    },
    {
      "cell_type": "markdown",
      "source": [
        "Crear un menu para objetos \n",
        "Elaborado por Ana Karen Colin Herrera"
      ],
      "metadata": {
        "id": "5LUap0hLKABd"
      }
    },
    {
      "cell_type": "code",
      "source": [
        "\n",
        "def cuadrado():\n",
        "    print('Has elegido el Cuadrado')\n",
        "    print('Medida de uno de sus lados')\n",
        "    lado= int (input()) \n",
        "    perimetro= lado+lado+lado+lado\n",
        "    print('El perimetro del cuadrado es: ', perimetro)\n",
        "\n",
        "\n",
        "def circulo():\n",
        "    print('Has elegido el Círculo')\n",
        "    print(\"Dime el radio\")\n",
        "    radio = float(input())\n",
        "    pi = 3.14\n",
        "    longitud = 2 * pi * radio\n",
        "    print (\"La longitud de la circunferencia:\")\n",
        "    print (longitud)\n",
        "\n",
        "\n",
        "def rectangulo():\n",
        "    print('Has elegido el rectangulo')\n",
        "    print('Medida del lado horizontal')\n",
        "    hor= int (input)\n",
        "    print('Medida del lado vertical')\n",
        "    ver= int (input())\n",
        "    perimetro2=hor+hor+ver+ver\n",
        "    print('El perimetro del rectangulo es: ', perimetro2)\n",
        "\n",
        "def trapecio():\n",
        "    print('Has elegido el trapecio')\n",
        "\n",
        "print ('Elige una opción del 1 al 4')\n",
        "    '1': ('Cuadrado', cuadrado),\n",
        "    '2': ('Circulo', circulo),\n",
        "    '3': ('Rectangulo', rectangulo),\n",
        "    '4': ('Trapecio', trapecio)"
      ],
      "metadata": {
        "colab": {
          "base_uri": "https://localhost:8080/",
          "height": 130
        },
        "id": "wY22Mn8MLt3j",
        "outputId": "e89951f1-6c54-4c74-b400-ad6f7c8b1eab"
      },
      "execution_count": 2,
      "outputs": [
        {
          "output_type": "error",
          "ename": "IndentationError",
          "evalue": "ignored",
          "traceback": [
            "\u001b[0;36m  File \u001b[0;32m\"<ipython-input-2-60da16461256>\"\u001b[0;36m, line \u001b[0;32m21\u001b[0m\n\u001b[0;31m    '1': ('Cuadrado', cuadrado),\u001b[0m\n\u001b[0m    ^\u001b[0m\n\u001b[0;31mIndentationError\u001b[0m\u001b[0;31m:\u001b[0m unexpected indent\n"
          ]
        }
      ]
    }
  ]
}